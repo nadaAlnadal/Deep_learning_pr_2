{
 "cells": [
  {
   "cell_type": "code",
   "execution_count": 42,
   "metadata": {},
   "outputs": [],
   "source": [
    "import tensorflow as tf\n",
    "from tensorflow.examples.tutorials.mnist import input_data"
   ]
  },
  {
   "cell_type": "code",
   "execution_count": 54,
   "metadata": {},
   "outputs": [
    {
     "name": "stdout",
     "output_type": "stream",
     "text": [
      "Extracting /tmp/data/train-images-idx3-ubyte.gz\n",
      "Extracting /tmp/data/train-labels-idx1-ubyte.gz\n",
      "Extracting /tmp/data/t10k-images-idx3-ubyte.gz\n",
      "Extracting /tmp/data/t10k-labels-idx1-ubyte.gz\n",
      "Epoch: 0 commplate out of: 10 loss: 1521613.1026916504\n",
      "Epoch: 1 commplate out of: 10 loss: 394717.79695129395\n",
      "Epoch: 2 commplate out of: 10 loss: 211939.83868806064\n",
      "Epoch: 3 commplate out of: 10 loss: 126095.65040668129\n",
      "Epoch: 4 commplate out of: 10 loss: 79434.58652353156\n",
      "Epoch: 5 commplate out of: 10 loss: 46933.05611265078\n",
      "Epoch: 6 commplate out of: 10 loss: 28418.643102824688\n",
      "Epoch: 7 commplate out of: 10 loss: 25540.59188356222\n",
      "Epoch: 8 commplate out of: 10 loss: 22999.968863885755\n",
      "Epoch: 9 commplate out of: 10 loss: 17732.200161794426\n",
      "Accuracy: 0.9491\n"
     ]
    }
   ],
   "source": [
    "mnist=input_data.read_data_sets(\"/tmp/data/\",one_hot=True)\n",
    "\n",
    "n_nodes_h1= 500\n",
    "n_nodes_h2= 500\n",
    "n_nodes_h3= 500\n",
    "\n",
    "n_classes=10\n",
    "batch_size=100\n",
    "\n",
    "x= tf.placeholder('float',[None,784])\n",
    "y= tf.placeholder('float')\n",
    "\n",
    "def neural_network_model(data):\n",
    "    \n",
    "    hidden_1_layer ={'weights':tf.Variable(tf.random_normal([784, n_nodes_h1])),\n",
    "                     'biases':tf.Variable(tf.random_normal([n_nodes_h1]))}\n",
    "    \n",
    "    hidden_2_layer ={'weights':tf.Variable(tf.random_normal([n_nodes_h1, n_nodes_h2])),\n",
    "                     'biases':tf.Variable(tf.random_normal([n_nodes_h2]))}\n",
    "    \n",
    "    hidden_3_layer ={'weights':tf.Variable(tf.random_normal([n_nodes_h2,n_nodes_h3])),\n",
    "                     'biases':tf.Variable(tf.random_normal([n_nodes_h3]))}\n",
    "    \n",
    "    output_layer ={'weights':tf.Variable(tf.random_normal([n_nodes_h3,n_classes])),\n",
    "                   'biases':tf.Variable(tf.random_normal([n_classes]))}\n",
    "    \n",
    "    #(input * wieghts) + biases\n",
    "    l1=tf.add(tf.matmul(data,hidden_1_layer['weights']), hidden_1_layer['biases'])\n",
    "    l1=tf.nn.relu(l1)\n",
    "    \n",
    "    l2=tf.add(tf.matmul(l1,hidden_2_layer['weights']), hidden_2_layer['biases'])\n",
    "    l2=tf.nn.relu(l2)\n",
    "    \n",
    "    l3=tf.add(tf.matmul(l2,hidden_3_layer['weights']), hidden_3_layer['biases'])\n",
    "    l3=tf.nn.relu(l3)\n",
    "    \n",
    "    output=tf.matmul(l3,output_layer['weights']) + output_layer['biases']\n",
    "    \n",
    "    return output\n",
    "\n",
    "\n",
    "def train_neural_network(x):\n",
    "    prediction = neural_network_model(x)\n",
    "    \n",
    "    #cost=tf.reduce_mean(tf.nn.softmax_cross_entropy_with_logits(prediction,y))\n",
    "    cost = tf.reduce_mean( tf.nn.softmax_cross_entropy_with_logits(logits=prediction, labels=y) )\n",
    "    \n",
    "    \n",
    "    \n",
    "    optimizer=tf.train.AdamOptimizer().minimize(cost)\n",
    "    \n",
    "    hm_epochs=10\n",
    "    \n",
    "    with tf.Session() as sess:\n",
    "        #sess.run(tf.initialize_all_variables())\n",
    "        sess.run(tf.global_variables_initializer())\n",
    "      \n",
    "        for epoch in range(hm_epochs):\n",
    "            epoch_loss=0\n",
    "            for _ in range(int(mnist.train.num_examples/batch_size)):\n",
    "                epoch_x, epoch_y =mnist.train.next_batch(batch_size)\n",
    "                _ , c=sess.run([optimizer,cost] , feed_dict={x: epoch_x,y: epoch_y})\n",
    "                epoch_loss += c\n",
    "            print('Epoch:', epoch,'commplate out of:',hm_epochs,'loss:',epoch_loss) \n",
    "         \n",
    "        \n",
    "        correct=tf.equal(tf.argmax(prediction,1),tf.argmax(y,1))\n",
    "        accuracy =tf.reduce_mean(tf.cast(correct,'float'))\n",
    "        print('Accuracy:',accuracy.eval({x:mnist.test.images,y:mnist.test.labels}))\n",
    "        \n",
    "        \n",
    "        \n",
    "train_neural_network(x)"
   ]
  }
 ],
 "metadata": {
  "kernelspec": {
   "display_name": "Python 3",
   "language": "python",
   "name": "python3"
  },
  "language_info": {
   "codemirror_mode": {
    "name": "ipython",
    "version": 3
   },
   "file_extension": ".py",
   "mimetype": "text/x-python",
   "name": "python",
   "nbconvert_exporter": "python",
   "pygments_lexer": "ipython3",
   "version": "3.6.5"
  }
 },
 "nbformat": 4,
 "nbformat_minor": 2
}
